{
  "nbformat": 4,
  "nbformat_minor": 0,
  "metadata": {
    "colab": {
      "name": "20220316.ipynb",
      "provenance": [],
      "authorship_tag": "ABX9TyP0OAKksxtU1s8FZGY4Wspk",
      "include_colab_link": true
    },
    "kernelspec": {
      "name": "python3",
      "display_name": "Python 3"
    },
    "language_info": {
      "name": "python"
    }
  },
  "cells": [
    {
      "cell_type": "markdown",
      "metadata": {
        "id": "view-in-github",
        "colab_type": "text"
      },
      "source": [
        "<a href=\"https://colab.research.google.com/github/yakim01/class2022spring/blob/main/20220316.ipynb\" target=\"_parent\"><img src=\"https://colab.research.google.com/assets/colab-badge.svg\" alt=\"Open In Colab\"/></a>"
      ]
    },
    {
      "cell_type": "code",
      "source": [
        "a=10\n",
        "print(a)\n",
        "print(type(a))"
      ],
      "metadata": {
        "id": "oYjZmhOHI_aE",
        "colab": {
          "base_uri": "https://localhost:8080/"
        },
        "outputId": "a84cb35c-4751-46a8-b9e1-148e96a764b3"
      },
      "execution_count": null,
      "outputs": [
        {
          "output_type": "stream",
          "name": "stdout",
          "text": [
            "10\n",
            "<class 'int'>\n"
          ]
        }
      ]
    },
    {
      "cell_type": "markdown",
      "source": [
        "Q. print(a): 이렇게 입력하면 왜 Error라고 뜨는가? 어떤 함수는 괄호 뒤에 :를 붙이고 어떤 함수는 붙이지 않는데 어떤 차이가 있는지?"
      ],
      "metadata": {
        "id": "FADVaIwhLmxu"
      }
    },
    {
      "cell_type": "code",
      "source": [
        "b=1.0\n",
        "print(a)\n",
        "print(type(b))"
      ],
      "metadata": {
        "colab": {
          "base_uri": "https://localhost:8080/"
        },
        "id": "4Y2xcwzgLfQP",
        "outputId": "9e54c906-25be-433e-b2e9-10cb05a99a7b"
      },
      "execution_count": null,
      "outputs": [
        {
          "output_type": "stream",
          "name": "stdout",
          "text": [
            "10\n",
            "<class 'float'>\n"
          ]
        }
      ]
    },
    {
      "cell_type": "code",
      "source": [
        "a=[6,'English',[3, 'abcde']]\n",
        "print(a[1])\n",
        "print(a[2][0])"
      ],
      "metadata": {
        "colab": {
          "base_uri": "https://localhost:8080/"
        },
        "id": "K7mXzmiVL5Z7",
        "outputId": "cd7f381e-b379-4af2-9e16-453a072c82dc"
      },
      "execution_count": null,
      "outputs": [
        {
          "output_type": "stream",
          "name": "stdout",
          "text": [
            "English\n",
            "3\n"
          ]
        }
      ]
    },
    {
      "cell_type": "code",
      "source": [
        "a=' I started to go to school from last week.'\n",
        "a.upper()"
      ],
      "metadata": {
        "colab": {
          "base_uri": "https://localhost:8080/",
          "height": 36
        },
        "id": "h2KjxjP6Mg9A",
        "outputId": "0d6f000b-1932-4ffe-c1df-9a002f11df8f"
      },
      "execution_count": null,
      "outputs": [
        {
          "output_type": "execute_result",
          "data": {
            "text/plain": [
              "' I STARTED TO GO TO SCHOOL FROM LAST WEEK.'"
            ],
            "application/vnd.google.colaboratory.intrinsic+json": {
              "type": "string"
            }
          },
          "metadata": {},
          "execution_count": 8
        }
      ]
    },
    {
      "cell_type": "code",
      "source": [
        "a.strip()"
      ],
      "metadata": {
        "colab": {
          "base_uri": "https://localhost:8080/",
          "height": 36
        },
        "id": "CBc_uW5SxSLS",
        "outputId": "0aecfef5-98cd-44f3-8a03-9a35c6211f86"
      },
      "execution_count": null,
      "outputs": [
        {
          "output_type": "execute_result",
          "data": {
            "text/plain": [
              "'I started to go to school from last week.'"
            ],
            "application/vnd.google.colaboratory.intrinsic+json": {
              "type": "string"
            }
          },
          "metadata": {},
          "execution_count": 9
        }
      ]
    },
    {
      "cell_type": "code",
      "source": [
        "a=' I started to go to school from last week.'\n",
        "a.upper()\n",
        "to=a.find('to')\n",
        "print(to)\n",
        "school=a.find('school')\n",
        "print(school)"
      ],
      "metadata": {
        "colab": {
          "base_uri": "https://localhost:8080/"
        },
        "outputId": "46b32851-a065-4f68-fa57-9679cc62cff6",
        "id": "G_WVkxOIxGVI"
      },
      "execution_count": null,
      "outputs": [
        {
          "output_type": "stream",
          "name": "stdout",
          "text": [
            "11\n",
            "20\n"
          ]
        }
      ]
    },
    {
      "cell_type": "code",
      "source": [
        "tokens=a.split(' ')\n",
        "print(tokens)\n",
        "s=' '.join(tokens)\n",
        "print(s)\n",
        "r=a.replace('last','this')\n",
        "r"
      ],
      "metadata": {
        "colab": {
          "base_uri": "https://localhost:8080/",
          "height": 73
        },
        "id": "7WKvbmSOxJSa",
        "outputId": "14038569-641e-426f-b397-90030bd9cde9"
      },
      "execution_count": null,
      "outputs": [
        {
          "output_type": "stream",
          "name": "stdout",
          "text": [
            "['', 'I', 'started', 'to', 'go', 'to', 'school', 'from', 'last', 'week.']\n",
            " I started to go to school from last week.\n"
          ]
        },
        {
          "output_type": "execute_result",
          "data": {
            "text/plain": [
              "' I started to go to school from this week.'"
            ],
            "application/vnd.google.colaboratory.intrinsic+json": {
              "type": "string"
            }
          },
          "metadata": {},
          "execution_count": 17
        }
      ]
    },
    {
      "cell_type": "code",
      "source": [
        "def add(a,b):\n",
        "  return a+b\n",
        "c=add(2,3)\n",
        "c"
      ],
      "metadata": {
        "colab": {
          "base_uri": "https://localhost:8080/"
        },
        "id": "i9UYGpZVyJHC",
        "outputId": "76064686-9298-4bf2-8eb4-d1dc33906d15"
      },
      "execution_count": null,
      "outputs": [
        {
          "output_type": "execute_result",
          "data": {
            "text/plain": [
              "5"
            ]
          },
          "metadata": {},
          "execution_count": 19
        }
      ]
    },
    {
      "cell_type": "code",
      "source": [
        "def subtract(a,b):\n",
        "  return a-b\n",
        "c=subtract(2,3)\n",
        "c"
      ],
      "metadata": {
        "colab": {
          "base_uri": "https://localhost:8080/"
        },
        "id": "jGIZ5rvX1JGZ",
        "outputId": "4a86fedc-1894-4fd7-bd6d-78945e0430d0"
      },
      "execution_count": null,
      "outputs": [
        {
          "output_type": "execute_result",
          "data": {
            "text/plain": [
              "-1"
            ]
          },
          "metadata": {},
          "execution_count": 21
        }
      ]
    },
    {
      "cell_type": "code",
      "source": [
        "def multiply(a,b):\n",
        "  return a*b\n",
        "c=multiply(2,3)\n",
        "c"
      ],
      "metadata": {
        "colab": {
          "base_uri": "https://localhost:8080/"
        },
        "id": "Qk_m9cS71RZB",
        "outputId": "e0fb9f19-21a2-4dfc-c996-4c9ea78de6e7"
      },
      "execution_count": null,
      "outputs": [
        {
          "output_type": "execute_result",
          "data": {
            "text/plain": [
              "6"
            ]
          },
          "metadata": {},
          "execution_count": 23
        }
      ]
    },
    {
      "cell_type": "code",
      "source": [
        "def divide(a,b):\n",
        "  return a/b\n",
        "c=divide(6,3)\n",
        "c"
      ],
      "metadata": {
        "colab": {
          "base_uri": "https://localhost:8080/"
        },
        "id": "2a6aXAfk1YcP",
        "outputId": "dbb9ba27-bbab-43b6-e4f5-0f601562ed2c"
      },
      "execution_count": null,
      "outputs": [
        {
          "output_type": "execute_result",
          "data": {
            "text/plain": [
              "2.0"
            ]
          },
          "metadata": {},
          "execution_count": 25
        }
      ]
    },
    {
      "cell_type": "code",
      "source": [
        "a=7\n",
        "if a<=10:\n",
        "  print(a)\n",
        "else:\n",
        "  print(a-2)\n",
        "\n",
        "for i in range (4,6):\n",
        "  for j in range (2,3):\n",
        "    if i<5:\n",
        "      print(i*j)"
      ],
      "metadata": {
        "colab": {
          "base_uri": "https://localhost:8080/"
        },
        "id": "IFMPqB6F2MRD",
        "outputId": "f508ff45-8c5e-4abf-d312-01aa75312315"
      },
      "execution_count": null,
      "outputs": [
        {
          "output_type": "stream",
          "name": "stdout",
          "text": [
            "7\n",
            "8\n"
          ]
        }
      ]
    },
    {
      "cell_type": "code",
      "source": [
        "a=['red', 'green','blue','purple']\n",
        "b=[i for i in a if len(i)>4]\n",
        "b"
      ],
      "metadata": {
        "colab": {
          "base_uri": "https://localhost:8080/"
        },
        "id": "68eLs64p3AaG",
        "outputId": "76d82a67-b2f2-4b61-fce8-4372f73916c9"
      },
      "execution_count": null,
      "outputs": [
        {
          "output_type": "execute_result",
          "data": {
            "text/plain": [
              "['green', 'purple']"
            ]
          },
          "metadata": {},
          "execution_count": 38
        }
      ]
    },
    {
      "cell_type": "code",
      "source": [
        "b= [1,2,3,4]\n",
        "c= {a[i]:b[i] for i in range(4)}\n",
        "c"
      ],
      "metadata": {
        "colab": {
          "base_uri": "https://localhost:8080/"
        },
        "id": "7pC06f9R3b1x",
        "outputId": "b26b2ac9-ae93-4c71-9aba-b3f48302b759"
      },
      "execution_count": null,
      "outputs": [
        {
          "output_type": "execute_result",
          "data": {
            "text/plain": [
              "{'blue': 3, 'green': 2, 'purple': 4, 'red': 1}"
            ]
          },
          "metadata": {},
          "execution_count": 39
        }
      ]
    },
    {
      "cell_type": "code",
      "source": [
        "import numpy as np\n",
        "a=np.random.randn(50)\n",
        "a"
      ],
      "metadata": {
        "colab": {
          "base_uri": "https://localhost:8080/"
        },
        "id": "J-5VM8U13fEY",
        "outputId": "89961d2a-2aee-4137-d154-0320713e2dbd"
      },
      "execution_count": null,
      "outputs": [
        {
          "output_type": "execute_result",
          "data": {
            "text/plain": [
              "array([-0.72714066, -0.85706731,  0.08472792,  0.19055597, -0.51370662,\n",
              "       -0.7983392 , -0.34432009, -0.43375358, -1.96037868, -1.43754053,\n",
              "        0.90354483,  0.96399573, -0.72668748,  0.25935111,  0.19242845,\n",
              "        0.74587906, -0.7486962 , -0.96629896,  1.16224471, -1.82234147,\n",
              "        0.85779476, -1.33090633,  0.72097022,  0.73108459, -0.06080372,\n",
              "       -1.67491207, -1.2473007 , -0.40033329,  0.85165888, -0.33611871,\n",
              "       -0.034861  ,  0.02696106, -0.89454455,  0.75264837,  1.6385502 ,\n",
              "        0.48607686,  0.39886209, -0.5591213 , -0.70564389, -1.22749195,\n",
              "        0.76933218, -0.14981053, -0.90949785, -0.04021724, -1.55156341,\n",
              "       -0.38757642,  0.86893299,  0.31380747,  0.26852742,  0.23406653])"
            ]
          },
          "metadata": {},
          "execution_count": 42
        }
      ]
    },
    {
      "cell_type": "code",
      "source": [
        "import matplotlib.pyplot as plt\n",
        "plt.hist(a)"
      ],
      "metadata": {
        "colab": {
          "base_uri": "https://localhost:8080/",
          "height": 359
        },
        "id": "T7OQ3Pg-6Lb3",
        "outputId": "e698d587-4972-441c-a76b-021323f0c782"
      },
      "execution_count": null,
      "outputs": [
        {
          "output_type": "execute_result",
          "data": {
            "text/plain": [
              "(array([3., 4., 4., 7., 6., 8., 6., 9., 2., 1.]),\n",
              " array([-1.96037868, -1.60048579, -1.24059291, -0.88070002, -0.52080713,\n",
              "        -0.16091424,  0.19897865,  0.55887153,  0.91876442,  1.27865731,\n",
              "         1.6385502 ]),\n",
              " <a list of 10 Patch objects>)"
            ]
          },
          "metadata": {},
          "execution_count": 44
        },
        {
          "output_type": "display_data",
          "data": {
            "text/plain": [
              "<Figure size 432x288 with 1 Axes>"
            ],
            "image/png": "[encoded data removed]"
          },
          "metadata": {
            "needs_background": "light"
          }
        }
      ]
    },
    {
      "cell_type": "code",
      "source": [
        "x=np.arange(0,11,2)\n",
        "print(x)\n",
        "print(type(x))\n",
        "print(x.shape)"
      ],
      "metadata": {
        "colab": {
          "base_uri": "https://localhost:8080/"
        },
        "id": "oZ4Nqxhk6RaQ",
        "outputId": "1d0f4985-f31c-40e3-9af2-a6bb0257d05c"
      },
      "execution_count": null,
      "outputs": [
        {
          "output_type": "stream",
          "name": "stdout",
          "text": [
            "[ 0  2  4  6  8 10]\n",
            "<class 'numpy.ndarray'>\n",
            "(6,)\n"
          ]
        }
      ]
    },
    {
      "cell_type": "code",
      "source": [
        "x=np.linspace(0,30,6)\n",
        "print(x)\n",
        "print(type(x))\n",
        "print(x.shape)\n"
      ],
      "metadata": {
        "colab": {
          "base_uri": "https://localhost:8080/"
        },
        "id": "EIzgi84-6nlY",
        "outputId": "877d446b-779d-4fbf-fd8c-0c9d08a1fb55"
      },
      "execution_count": null,
      "outputs": [
        {
          "output_type": "stream",
          "name": "stdout",
          "text": [
            "[ 0.  6. 12. 18. 24. 30.]\n",
            "<class 'numpy.ndarray'>\n",
            "(6,)\n"
          ]
        }
      ]
    },
    {
      "cell_type": "code",
      "source": [
        "x=np.array([[[1,2,3],[4,5,6]],[[7,8,9],[10,11,12]]])\n",
        "print(x)\n",
        "print(type(x))\n",
        "print(x.shape)"
      ],
      "metadata": {
        "colab": {
          "base_uri": "https://localhost:8080/"
        },
        "id": "8C4BBXjL7RDO",
        "outputId": "194a6daf-cdce-4b4d-df53-62530e8e7599"
      },
      "execution_count": null,
      "outputs": [
        {
          "output_type": "stream",
          "name": "stdout",
          "text": [
            "[[[ 1  2  3]\n",
            "  [ 4  5  6]]\n",
            "\n",
            " [[ 7  8  9]\n",
            "  [10 11 12]]]\n",
            "<class 'numpy.ndarray'>\n",
            "(2, 2, 3)\n"
          ]
        }
      ]
    },
    {
      "cell_type": "code",
      "source": [
        "x=np.zeros([2,2,3])\n",
        "print(x)"
      ],
      "metadata": {
        "colab": {
          "base_uri": "https://localhost:8080/"
        },
        "id": "vO07M5EN7t0X",
        "outputId": "7e199f92-7295-4e65-a598-bccf7dc27ef3"
      },
      "execution_count": null,
      "outputs": [
        {
          "output_type": "stream",
          "name": "stdout",
          "text": [
            "[[[0. 0. 0.]\n",
            "  [0. 0. 0.]]\n",
            "\n",
            " [[0. 0. 0.]\n",
            "  [0. 0. 0.]]]\n"
          ]
        }
      ]
    },
    {
      "cell_type": "code",
      "source": [
        "x.reshape(3,2,2)\n"
      ],
      "metadata": {
        "colab": {
          "base_uri": "https://localhost:8080/"
        },
        "id": "IluTrL9L8Hgk",
        "outputId": "0cc614a1-7242-4ffd-a97f-29e27680e63b"
      },
      "execution_count": null,
      "outputs": [
        {
          "output_type": "execute_result",
          "data": {
            "text/plain": [
              "array([[[0., 0.],\n",
              "        [0., 0.]],\n",
              "\n",
              "       [[0., 0.],\n",
              "        [0., 0.]],\n",
              "\n",
              "       [[0., 0.],\n",
              "        [0., 0.]]])"
            ]
          },
          "metadata": {},
          "execution_count": 66
        }
      ]
    },
    {
      "cell_type": "code",
      "source": [
        "import numpy.random as np\n",
        "np.normal(0,1,[2,3,4])"
      ],
      "metadata": {
        "colab": {
          "base_uri": "https://localhost:8080/"
        },
        "id": "8clO_1o_8bgi",
        "outputId": "feca3816-8f96-4f67-aa70-faffbfda1cdc"
      },
      "execution_count": null,
      "outputs": [
        {
          "output_type": "execute_result",
          "data": {
            "text/plain": [
              "array([[[-0.47816959,  0.62685317,  1.55371817,  1.32033852],\n",
              "        [-0.49179133,  1.21410574, -1.29568431,  0.10545904],\n",
              "        [ 0.59967231, -0.75193515,  0.69368503,  0.856163  ]],\n",
              "\n",
              "       [[ 0.51648521,  0.00741608,  1.54166139,  0.25480793],\n",
              "        [-0.55939806, -0.65681374,  0.07768573,  0.3512876 ],\n",
              "        [ 3.00703509, -0.961727  , -0.52980299, -1.49062583]]])"
            ]
          },
          "metadata": {},
          "execution_count": 70
        }
      ]
    },
    {
      "cell_type": "code",
      "source": [
        "n=np.normal(0,1,100)\n",
        "import matplotlib.pyplot as plt\n",
        "print(n)\n",
        "plt.hist(n,bins=20)\n"
      ],
      "metadata": {
        "colab": {
          "base_uri": "https://localhost:8080/",
          "height": 732
        },
        "id": "4qpIIJRE9m70",
        "outputId": "a40f7bb1-66ce-498f-8442-e13914c30793"
      },
      "execution_count": null,
      "outputs": [
        {
          "output_type": "stream",
          "name": "stdout",
          "text": [
            "[ 0.85404906  1.19940267  0.81017968 -0.19151599 -0.07844299  0.82296212\n",
            "  0.659414    0.79439727 -0.85923911 -0.20267188 -0.05736391 -0.1709326\n",
            " -0.18838408  0.2542873  -0.65879224  1.28656365  0.77898013 -0.85090752\n",
            " -1.02835192 -1.0848158   0.22476575 -0.25281008  0.69887136 -0.02855544\n",
            " -0.18633074 -1.57784118  0.68965969  1.08588692  0.1065601  -0.33746543\n",
            "  1.07411128 -0.44487188 -0.45428861 -0.10771872 -1.36895456 -0.72417843\n",
            " -1.05807973 -1.67392908  0.34688118  1.29833141  1.10185263 -0.48522322\n",
            " -1.32542699 -0.57467834 -0.57090682  0.6105361   1.05626147  1.25807729\n",
            "  0.19856667 -1.50830633 -0.23707434 -2.10159079  0.43232388  0.51819071\n",
            "  0.69836606 -0.80200817  0.18433584  0.24252743 -0.95020003 -1.6302931\n",
            " -1.34709399  1.17183787  0.32755702  1.09924202 -2.19799391 -0.50452337\n",
            " -0.44893065  1.86422048 -0.4502106   0.1461904   0.76384733 -0.86511388\n",
            " -0.14224621  1.0242163   0.54082884 -0.4067688  -2.02322608  0.60739002\n",
            " -0.01581131  0.14221262 -0.10879678  0.40619125  1.26468841 -1.27036148\n",
            "  0.13874432 -0.0463631  -0.68476646  2.362207    1.59677531  1.13052287\n",
            "  1.84676843  0.7887006  -1.11826663 -0.28450368 -2.26713471  0.46096574\n",
            " -1.00003249  1.1435978  -1.17391476 -0.5923947 ]\n"
          ]
        },
        {
          "output_type": "execute_result",
          "data": {
            "text/plain": [
              "(array([ 3.,  1.,  3.,  3.,  4.,  5.,  7.,  9.,  9.,  9.,  9.,  5.,  8.,\n",
              "         7., 10.,  4.,  1.,  2.,  0.,  1.]),\n",
              " array([-2.26713471, -2.03566763, -1.80420054, -1.57273346, -1.34126637,\n",
              "        -1.10979928, -0.8783322 , -0.64686511, -0.41539803, -0.18393094,\n",
              "         0.04753614,  0.27900323,  0.51047031,  0.7419374 ,  0.97340449,\n",
              "         1.20487157,  1.43633866,  1.66780574,  1.89927283,  2.13073991,\n",
              "         2.362207  ]),\n",
              " <a list of 20 Patch objects>)"
            ]
          },
          "metadata": {},
          "execution_count": 78
        },
        {
          "output_type": "display_data",
          "data": {
            "text/plain": [
              "<Figure size 432x288 with 1 Axes>"
            ],
            "image/png": "[encoded data removed]"
          },
          "metadata": {
            "needs_background": "light"
          }
        }
      ]
    },
    {
      "cell_type": "code",
      "source": [
        "import matplotlib.pyplot as plt\n",
        "plt.figure()\n",
        "import numpy as np\n",
        "\n",
        "theta1=np.linspace(0,2*np.pi,100)\n",
        "s1=np.sin(theta1)\n",
        "theta2=np.linspace(0,2*np.pi,100)+np.pi/2\n",
        "s2=np.sin(theta2)\n",
        "\n",
        "plt.subplot(2,1,1)\n",
        "plt.plot(theta1,s1,'.')\n",
        "plt.subplot(2,1,2)\n",
        "plt.plot(theta2, s2,'.')"
      ],
      "metadata": {
        "colab": {
          "base_uri": "https://localhost:8080/",
          "height": 284
        },
        "id": "DO9cGNUx-JlU",
        "outputId": "53a823f5-4496-4ea0-f6d4-26228ca25130"
      },
      "execution_count": null,
      "outputs": [
        {
          "output_type": "execute_result",
          "data": {
            "text/plain": [
              "[<matplotlib.lines.Line2D at 0x7f32e3c46550>]"
            ]
          },
          "metadata": {},
          "execution_count": 88
        },
        {
          "output_type": "display_data",
          "data": {
            "text/plain": [
              "<Figure size 432x288 with 2 Axes>"
            ],
            "image/png": "[encoded data removed]"
          },
          "metadata": {
            "needs_background": "light"
          }
        }
      ]
    },
    {
      "cell_type": "code",
      "source": [
        "plt.subplot(2,2,1)\n",
        "plt.plot(theta1,s1,'.')\n",
        "plt.subplot(2,2,2)\n",
        "plt.plot(theta2, s2,'.')"
      ],
      "metadata": {
        "colab": {
          "base_uri": "https://localhost:8080/",
          "height": 166
        },
        "id": "CpIo5X5FBNEJ",
        "outputId": "acd385f6-9b44-415e-e79d-e45173a80732"
      },
      "execution_count": null,
      "outputs": [
        {
          "output_type": "execute_result",
          "data": {
            "text/plain": [
              "[<matplotlib.lines.Line2D at 0x7f32e3b86990>]"
            ]
          },
          "metadata": {},
          "execution_count": 89
        },
        {
          "output_type": "display_data",
          "data": {
            "text/plain": [
              "<Figure size 432x288 with 2 Axes>"
            ],
            "image/png": "[encoded data removed]"
          },
          "metadata": {
            "needs_background": "light"
          }
        }
      ]
    },
    {
      "cell_type": "code",
      "source": [
        "plt.subplot(3,1,1)\n",
        "plt.plot(theta1,s1,'.')\n",
        "plt.subplot(3,1,2)\n",
        "plt.plot(theta2, s2,'.')"
      ],
      "metadata": {
        "colab": {
          "base_uri": "https://localhost:8080/",
          "height": 209
        },
        "id": "6TGpEPqzBkXq",
        "outputId": "3e77fe2d-ca7d-4a3e-b5bc-4c5248778f25"
      },
      "execution_count": null,
      "outputs": [
        {
          "output_type": "execute_result",
          "data": {
            "text/plain": [
              "[<matplotlib.lines.Line2D at 0x7f32e3927550>]"
            ]
          },
          "metadata": {},
          "execution_count": 93
        },
        {
          "output_type": "display_data",
          "data": {
            "text/plain": [
              "<Figure size 432x288 with 2 Axes>"
            ],
            "image/png": "[encoded data removed]"
          },
          "metadata": {
            "needs_background": "light"
          }
        }
      ]
    },
    {
      "cell_type": "markdown",
      "source": [
        "rows값과 columns값의 변화에 따라 그래프가 왜 이렇게 변화하는지 다시 생각해볼 것!"
      ],
      "metadata": {
        "id": "xaAaX6tyCIaA"
      }
    }
  ]
}