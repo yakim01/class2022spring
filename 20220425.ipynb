{
  "nbformat": 4,
  "nbformat_minor": 0,
  "metadata": {
    "colab": {
      "name": "20220425.ipynb",
      "provenance": [],
      "authorship_tag": "ABX9TyNUbJCZB6rgOA5oiSFgzCxe",
      "include_colab_link": true
    },
    "kernelspec": {
      "name": "python3",
      "display_name": "Python 3"
    },
    "language_info": {
      "name": "python"
    }
  },
  "cells": [
    {
      "cell_type": "markdown",
      "metadata": {
        "id": "view-in-github",
        "colab_type": "text"
      },
      "source": [
        "<a href=\"https://colab.research.google.com/github/yakim01/class2022spring/blob/main/20220425.ipynb\" target=\"_parent\"><img src=\"https://colab.research.google.com/assets/colab-badge.svg\" alt=\"Open In Colab\"/></a>"
      ]
    },
    {
      "cell_type": "markdown",
      "source": [
        "Auto Correlation\n",
        ": 주어진 시간열과 지연된 버전 사이의 유사성을 수학적으로 나타내는 것.\n",
        ": 시계열의 시차 값(lagged values) 사이의 선형 관계를 측정한다.\n",
        "\n",
        "- Auto Correlation 분석은 소리에 의해 가려지는 주기적 신호의 반복 패턴을 찾거나 고조파 주파수에 의해 암시되는 신호에서 누락된 기본 주파수를 식별하기 위한 수학적 도구이다. \n",
        "- 시간 영역 신호와 같은 함수나 일련의 값을 분석하기 위해 신호 처리에 자주 사용된다.\n",
        "- '시간'이라는 요소가 auto correlation을 만들어내는 요소이다.\n",
        "- Cross Correlation은 두 개의 다른 시퀀스가 연관이 있을 때 생기는 것인 반면, Auto Correlation은 하나의 시퀀스가 만들어낸다는 점에서 차이가 있다.\n",
        "\n",
        "Auto Correlation Formula\n",
        ":\n",
        "\n",
        "![image.png](data:image/png;base64,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)"
      ],
      "metadata": {
        "id": "3EFhPRNGpjNp"
      }
    },
    {
      "cell_type": "markdown",
      "source": [
        "Root Mean Square (제곱평균제곱근)\n",
        "\n",
        "- 일련의 값들 또는 연속시간 파형과 같이 변화하는 값에 대한 통계적 척도\n",
        "- 평균값과 유사한 성격의 대표값\n",
        "- 전기전자, 화학, 광학, 기계 공학 등의 분야에서 많이 사용됨.\n",
        "\n",
        "Root Mean Square Formula\n",
        "- 일련의 값 X1, X2, X3, ... , Xn에 대한 RMS\n",
        ": ![image.png](data:image/png;base64,iVBORw0KGgoAAAANSUhEUgAAAIwAAAAzCAYAAABFXOCeAAAEH0lEQVR4nO2dbXKjMAyGX3b2NBbHielxsI+zNsexfB3tD2iTJuEj4AABPzPMJDOpI6WqJL8WKWQUJxoQ5OuElxZ3Fw2FiAjGYA8PDU2jr8wcnD+TXhUj4psNyXwGkwKGI7/bjsyHMC3DgKCWlCO2qMoCRVGgKEpUfsMA3JMta5LI70kBEwGoWcsDYIvyC6iDQEQQjIKvvmC3+D3tyZY1Sej3hIBhRCjMTjCRwcz4rmpUa2gweIumaE+2rElCv/9OeLfXV71FOzzsw8ig1suW/Xhb1iSh3xN7mNkF6QFvI3So52eshOzJljVZ5PeobheMmHv1ZibOOAlpllrMnmxZk6V+j2eYRR3vFe89VK27qGbwho3mnmxZkxR+jwZMCg2GmaG1/kmBbC2axat+vi1rksrvCT3Mcg3mqyy7/X97lQbL1jyCLWuS0u/xmmc2rPVBjN7y/bewYy8+P2ckwyzUYDKHYyRg4mkawsw0RnsYov4tEtsSRVHC8vVx5ZPaN5k92bIWm/g8WLCGNJjgxIQgEoxoItEmSDAkZIK8NnR1O6Qz5eceh3rS2zLTjlls7fNrvgwHjDNixrovpwU6kbL3wIsN4Nts2XHT+9bP/5GJRwP9eO+h9T4OY7a1heGrAkVpwZOep2FtnwcDhuPzvTrbEmVbOGE9gRTaxxvMCezJlrXY1Oeh9NOnwQSjhYiEtJMQjBAgNJQWQxBn2lo7WuJe5HVbjGj6rt0k2u1V8ejnZZ8TMhAwqeu2e0vAvEQwQnT1KRgtwMY2fRjDPQylFO12IACedYAqIQMBk+iYek9oBxH3+3aZMwxQwaMqik6jYdiyQFFUmCPZ9AdMX8d7IM4xQMXwXqE2GqQYtrJQ/wKMplnpoD9gIifd/u0Nbz1UXePoyYUZ0BpomKAaC9QOGg2YLrP+UAZKUrddOyBnGqAiIsBb+MjwyqEmwDeArintAFX6ihTB3bpbcsYBKu89oGs4DYAtPC5Q3iOmnIdJNwcTxNDj+cWKavaNKa1mgZnnKB/JnZQgrpMSZjrdczM+w9oGl/roDWHmVQZ6mB3oJpnd8RMw7P3NruiAGkwmCV3AMBrrr/c4nkCDycyjDRhu4Dn+SObP745t1cIiXwe/hhXgv128QOnuTOU7sTxUJA034cuqMsemzTCXC2oixC7F5IqU6eMP0KqBpBS4U9Vyy5vp47qtVgSKEYzr8X8mc89zHSbpHEzmSFwDhhQUM2IuSJkBbjKMAlFE9LnjTTlwdDRuAoagVB5XTD1wdDR+9TCKCNHzqStS6oGjo/ErYNqt9bkrUuqBo6PxuEuinHqTDhwdjN8BoyinXbaw0eBf3X0SkeHNFxrow8//TuFugMqjqgDn8keTec7dFzsr7OS++sxOuethCOrsDUxmkGn/YCuT6fgP6yFl7v0Q/VcAAAAASUVORK5CYII=)\n",
        "\n",
        "- 시간 범위 ![image.png](data:image/png;base64,iVBORw0KGgoAAAANSUhEUgAAAFEAAAASCAYAAAAjQzL0AAABkElEQVRYhe1XW3KEMAwTPU691zG9jnMdcx3nPOoH2xZowkKgz0Ez/glBsYQdko4kceEQnn46gf+Aook53dB1XT364bvz/HIc0fzZxJzwYoB6gCToCkDhJMiA6ykpIw8JfZ8w5AdThx639GjSAX7guGbO4DR1xnREQbHpSNDM2YJwo6nRPGZrrMFVaBsnt/CfoRnVJ/cFFNtFlBDhNFOa+Q5hJMMoAHEPrWho5q9iv+ZVE8OEEGtPLoyqSvNGhrBFRZzMX6Tcr3nFxKDJsqxbEXQzqho9djTa5lZu4y/xtGiumxhGKZZ1MNyoomzaGSPoplRzrut1aksXbOYvvVvX7CrvW4voPK+qib5a1kFrNXHKEitCXceKCGfzbrDGX1qypvktl5GVJvM9+pOJYR+Oj1Eya5uJrlhwFaLyocKEorZq4BH+/Zon6/r8aUe2XPsy0i3hORynHBv/DDJyBkRkNnpd+7YiZ2TIaGBOSNMLzINKL9X+7Px2zt/7l2Ohednuje18YYqrnU/AZeIJuEw8Aa/AO2QhDDiLXgAAAABJRU5ErkJggg==)에 대한 연속함수 f(t)의 RMS\n",
        ": ![image.png](data:image/png;base64,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)"
      ],
      "metadata": {
        "id": "182DCehGw8PJ"
      }
    }
  ]
}